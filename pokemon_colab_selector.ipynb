{
 "cells": [
  {
   "cell_type": "markdown",
   "id": "25118dcb",
   "metadata": {},
   "source": [
    "# 🕹️ Pokémon Starter Selector (Versión Google Colab)"
   ]
  },
  {
   "cell_type": "code",
   "execution_count": null,
   "id": "0d5e95ec",
   "metadata": {},
   "outputs": [],
   "source": [
    "!pip install ipywidgets --quiet"
   ]
  },
  {
   "cell_type": "code",
   "execution_count": null,
   "id": "06dc7abe",
   "metadata": {},
   "outputs": [],
   "source": [
    "from IPython.display import display, Image\n",
    "import ipywidgets as widgets"
   ]
  },
  {
   "cell_type": "code",
   "execution_count": null,
   "id": "c73b9653",
   "metadata": {},
   "outputs": [],
   "source": [
    "# Elección de género\n",
    "gender_label = widgets.Label(\"Selecciona tu género:\")\n",
    "gender_buttons = widgets.ToggleButtons(\n",
    "    options=[\"Chico\", \"Chica\"],\n",
    "    description='Género:',\n",
    ")\n",
    "\n",
    "# Elección de Pokémon\n",
    "pokemon_label = widgets.Label(\"Elige tu Pokémon inicial:\")\n",
    "pokemon_buttons = widgets.ToggleButtons(\n",
    "    options=[\"Bulbasaur\", \"Charmander\", \"Squirtle\"],\n",
    "    description='Pokémon:',\n",
    ")\n",
    "\n",
    "# Mostrar resultado final\n",
    "output = widgets.Output()\n",
    "\n",
    "def show_result(change):\n",
    "    with output:\n",
    "        output.clear_output()\n",
    "        display(f\"Género elegido: {gender_buttons.value}\")\n",
    "        display(f\"Pokémon elegido: {pokemon_buttons.value}\")\n",
    "        img_url = {\n",
    "            \"Bulbasaur\": \"https://img.pokemondb.net/sprites/red-blue/normal/bulbasaur.png\",\n",
    "            \"Charmander\": \"https://img.pokemondb.net/sprites/red-blue/normal/charmander.png\",\n",
    "            \"Squirtle\": \"https://img.pokemondb.net/sprites/red-blue/normal/squirtle.png\"\n",
    "        }\n",
    "        display(Image(img_url[pokemon_buttons.value]))\n",
    "\n",
    "pokemon_buttons.observe(show_result, names='value')\n",
    "\n",
    "# Mostrar widgets\n",
    "display(gender_label, gender_buttons)\n",
    "display(pokemon_label, pokemon_buttons)\n",
    "display(output)"
   ]
  }
 ],
 "metadata": {},
 "nbformat": 4,
 "nbformat_minor": 5
}
